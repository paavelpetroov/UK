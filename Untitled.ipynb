{
 "cells": [
  {
   "cell_type": "code",
   "execution_count": 1,
   "metadata": {},
   "outputs": [],
   "source": [
    "import pandas as pd\n",
    "import xlrd"
   ]
  },
  {
   "cell_type": "code",
   "execution_count": 9,
   "metadata": {},
   "outputs": [],
   "source": [
    "excel_file = pd.read_excel(\"users/excel/examples.xlsx\")"
   ]
  },
  {
   "cell_type": "code",
   "execution_count": 44,
   "metadata": {},
   "outputs": [],
   "source": [
    "excel_file.to_csv(\"users/csv/examples.csv\")"
   ]
  },
  {
   "cell_type": "code",
   "execution_count": 2,
   "metadata": {},
   "outputs": [],
   "source": [
    "df = pd.read_csv(\"users/csv/examples.csv\")"
   ]
  },
  {
   "cell_type": "code",
   "execution_count": 3,
   "metadata": {},
   "outputs": [
    {
     "data": {
      "text/html": [
       "<div>\n",
       "<style scoped>\n",
       "    .dataframe tbody tr th:only-of-type {\n",
       "        vertical-align: middle;\n",
       "    }\n",
       "\n",
       "    .dataframe tbody tr th {\n",
       "        vertical-align: top;\n",
       "    }\n",
       "\n",
       "    .dataframe thead th {\n",
       "        text-align: right;\n",
       "    }\n",
       "</style>\n",
       "<table border=\"1\" class=\"dataframe\">\n",
       "  <thead>\n",
       "    <tr style=\"text-align: right;\">\n",
       "      <th></th>\n",
       "      <th>Unnamed: 0</th>\n",
       "      <th>UserId</th>\n",
       "      <th>Password</th>\n",
       "      <th>Tier2</th>\n",
       "      <th>General</th>\n",
       "      <th>Intra Company Transfer</th>\n",
       "      <th>Sports people</th>\n",
       "      <th>Ministers of Religion</th>\n",
       "      <th>Tier4</th>\n",
       "      <th>General.1</th>\n",
       "      <th>...</th>\n",
       "      <th>Religious Workers</th>\n",
       "      <th>Charity Workers</th>\n",
       "      <th>Seasonal Workers</th>\n",
       "      <th>SLN</th>\n",
       "      <th>OrgName</th>\n",
       "      <th>Address</th>\n",
       "      <th>City</th>\n",
       "      <th>Country</th>\n",
       "      <th>Postcode</th>\n",
       "      <th>Telephone</th>\n",
       "    </tr>\n",
       "  </thead>\n",
       "  <tbody>\n",
       "    <tr>\n",
       "      <th>0</th>\n",
       "      <td>0</td>\n",
       "      <td>iG5P3ZE</td>\n",
       "      <td>qwerty1</td>\n",
       "      <td>+</td>\n",
       "      <td>0</td>\n",
       "      <td>1</td>\n",
       "      <td>0</td>\n",
       "      <td>1</td>\n",
       "      <td>+</td>\n",
       "      <td>0</td>\n",
       "      <td>...</td>\n",
       "      <td>0</td>\n",
       "      <td>0</td>\n",
       "      <td>0</td>\n",
       "      <td>0</td>\n",
       "      <td>Ruslan</td>\n",
       "      <td>I want to break free from your lies you're so ...</td>\n",
       "      <td>Manchester</td>\n",
       "      <td>0</td>\n",
       "      <td>SE21 8RE</td>\n",
       "      <td>441234567890</td>\n",
       "    </tr>\n",
       "  </tbody>\n",
       "</table>\n",
       "<p>1 rows × 25 columns</p>\n",
       "</div>"
      ],
      "text/plain": [
       "   Unnamed: 0   UserId Password Tier2  General  Intra Company Transfer  \\\n",
       "0           0  iG5P3ZE  qwerty1     +        0                       1   \n",
       "\n",
       "   Sports people  Ministers of Religion Tier4  General.1      ...       \\\n",
       "0              0                      1     +          0      ...        \n",
       "\n",
       "   Religious Workers Charity Workers  Seasonal Workers  SLN  OrgName  \\\n",
       "0                  0               0                 0    0   Ruslan   \n",
       "\n",
       "                                             Address       City   Country  \\\n",
       "0  I want to break free from your lies you're so ...  Manchester        0   \n",
       "\n",
       "   Postcode     Telephone  \n",
       "0  SE21 8RE  441234567890  \n",
       "\n",
       "[1 rows x 25 columns]"
      ]
     },
     "execution_count": 3,
     "metadata": {},
     "output_type": "execute_result"
    }
   ],
   "source": [
    "df.head()"
   ]
  },
  {
   "cell_type": "code",
   "execution_count": 4,
   "metadata": {},
   "outputs": [],
   "source": [
    "to_del = list(filter(lambda x: x.find(\"Unnamed\")==0,list(df.columns)))"
   ]
  },
  {
   "cell_type": "code",
   "execution_count": 5,
   "metadata": {},
   "outputs": [],
   "source": [
    "df.drop(to_del, axis='columns', inplace=True)"
   ]
  },
  {
   "cell_type": "code",
   "execution_count": 30,
   "metadata": {},
   "outputs": [
    {
     "data": {
      "text/html": [
       "<div>\n",
       "<style scoped>\n",
       "    .dataframe tbody tr th:only-of-type {\n",
       "        vertical-align: middle;\n",
       "    }\n",
       "\n",
       "    .dataframe tbody tr th {\n",
       "        vertical-align: top;\n",
       "    }\n",
       "\n",
       "    .dataframe thead th {\n",
       "        text-align: right;\n",
       "    }\n",
       "</style>\n",
       "<table border=\"1\" class=\"dataframe\">\n",
       "  <thead>\n",
       "    <tr style=\"text-align: right;\">\n",
       "      <th></th>\n",
       "      <th>UserId</th>\n",
       "      <th>Password</th>\n",
       "      <th>Tier2</th>\n",
       "      <th>General</th>\n",
       "      <th>Intra Company Transfer</th>\n",
       "      <th>Sports people</th>\n",
       "      <th>Ministers of Religion</th>\n",
       "      <th>Tier4</th>\n",
       "      <th>General.1</th>\n",
       "      <th>Child</th>\n",
       "      <th>...</th>\n",
       "      <th>Religious Workers</th>\n",
       "      <th>Charity Workers</th>\n",
       "      <th>Seasonal Workers</th>\n",
       "      <th>SLN</th>\n",
       "      <th>OrgName</th>\n",
       "      <th>Address</th>\n",
       "      <th>City</th>\n",
       "      <th>Country</th>\n",
       "      <th>Postcode</th>\n",
       "      <th>Telephone</th>\n",
       "    </tr>\n",
       "  </thead>\n",
       "  <tbody>\n",
       "    <tr>\n",
       "      <th>0</th>\n",
       "      <td>iG5P3ZE</td>\n",
       "      <td>qwerty1</td>\n",
       "      <td>+</td>\n",
       "      <td>0</td>\n",
       "      <td>1</td>\n",
       "      <td>0</td>\n",
       "      <td>1</td>\n",
       "      <td>+</td>\n",
       "      <td>0</td>\n",
       "      <td>1</td>\n",
       "      <td>...</td>\n",
       "      <td>0</td>\n",
       "      <td>0</td>\n",
       "      <td>0</td>\n",
       "      <td>0</td>\n",
       "      <td>Ruslan</td>\n",
       "      <td>I want to break free from your lies you're so ...</td>\n",
       "      <td>Manchester</td>\n",
       "      <td>0</td>\n",
       "      <td>SE21 8RE</td>\n",
       "      <td>441234567890</td>\n",
       "    </tr>\n",
       "  </tbody>\n",
       "</table>\n",
       "<p>1 rows × 24 columns</p>\n",
       "</div>"
      ],
      "text/plain": [
       "    UserId Password Tier2  General  Intra Company Transfer  Sports people  \\\n",
       "0  iG5P3ZE  qwerty1     +        0                       1              0   \n",
       "\n",
       "   Ministers of Religion Tier4  General.1  Child      ...       \\\n",
       "0                      1     +          0      1      ...        \n",
       "\n",
       "  Religious Workers  Charity Workers  Seasonal Workers  SLN  OrgName  \\\n",
       "0                 0                0                 0    0   Ruslan   \n",
       "\n",
       "                                             Address       City   Country  \\\n",
       "0  I want to break free from your lies you're so ...  Manchester        0   \n",
       "\n",
       "   Postcode     Telephone  \n",
       "0  SE21 8RE  441234567890  \n",
       "\n",
       "[1 rows x 24 columns]"
      ]
     },
     "execution_count": 30,
     "metadata": {},
     "output_type": "execute_result"
    }
   ],
   "source": [
    "df"
   ]
  },
  {
   "cell_type": "code",
   "execution_count": 31,
   "metadata": {},
   "outputs": [
    {
     "name": "stdout",
     "output_type": "stream",
     "text": [
      "[0, 1, 0, 1]\n",
      "[0, 1]\n",
      "[1, 1, 1, 0, 0, 0]\n"
     ]
    }
   ],
   "source": [
    "tier2n = (list(df.iloc[0][\"Tier2\":\"Tier4\"]))\n",
    "tier2 = tier2n[1:len(tier2n)-1]\n",
    "tier4n =(list(df.iloc[0][\"Tier4\":\"Tier5\"]))\n",
    "tier4 = tier4n[1:len(tier4n)-1]\n",
    "tier5n =(list(df.iloc[0][\"Tier5\":\"SLN\"]))\n",
    "tier5 = tier5n[1:len(tier5n)-1]\n",
    "print(tier2)\n",
    "print(tier4)\n",
    "print(tier5)\n",
    "\n",
    "\n"
   ]
  },
  {
   "cell_type": "code",
   "execution_count": 19,
   "metadata": {},
   "outputs": [],
   "source": [
    "all_names = list(df.columns)\n",
    "tier2_names = all_names[all_names.index(\"Tier2\")+1:all_names.index(\"Tier4\")]\n",
    "tier4_names = all_names[all_names.index(\"Tier4\")+1:all_names.index(\"Tier5\")]\n",
    "tier5_names = all_names[all_names.index(\"Tier5\")+1:all_names.index(\"SLN\")]"
   ]
  },
  {
   "cell_type": "code",
   "execution_count": 20,
   "metadata": {},
   "outputs": [
    {
     "name": "stdout",
     "output_type": "stream",
     "text": [
      "['General', 'Intra Company Transfer', 'Sports people', 'Ministers of Religion'] ['General.1', 'Child'] ['Creative and Sporting', 'Government Authorised Exchange', 'International Agreement', 'Religious Workers', 'Charity Workers', 'Seasonal Workers']\n"
     ]
    }
   ],
   "source": [
    "print(tier2_names, tier4_names, tier5_names)"
   ]
  },
  {
   "cell_type": "code",
   "execution_count": 32,
   "metadata": {},
   "outputs": [
    {
     "name": "stdout",
     "output_type": "stream",
     "text": [
      "Creative and Sporting\n",
      "Government Authorised Exchange\n",
      "International Agreement\n"
     ]
    }
   ],
   "source": [
    "for i in range(len(tier5)):\n",
    "    if tier5[i] == 1:\n",
    "        print(tier5_names[i])"
   ]
  },
  {
   "cell_type": "code",
   "execution_count": 37,
   "metadata": {},
   "outputs": [],
   "source": [
    "tier4_names = list(map(lambda x: x if x.find(\".1\")==-1 else x[:x.find(\".1\")], tier4_names))"
   ]
  },
  {
   "cell_type": "code",
   "execution_count": 38,
   "metadata": {},
   "outputs": [
    {
     "data": {
      "text/plain": [
       "['General', 'Child']"
      ]
     },
     "execution_count": 38,
     "metadata": {},
     "output_type": "execute_result"
    }
   ],
   "source": [
    "yes"
   ]
  },
  {
   "cell_type": "code",
   "execution_count": 39,
   "metadata": {},
   "outputs": [
    {
     "data": {
      "text/plain": [
       "0"
      ]
     },
     "execution_count": 39,
     "metadata": {},
     "output_type": "execute_result"
    }
   ],
   "source": [
    "df.iloc[0][\"SLN\"]"
   ]
  },
  {
   "cell_type": "code",
   "execution_count": 40,
   "metadata": {},
   "outputs": [],
   "source": [
    "names_secp = all_names[all_names.index(\"SLN\")+1:]"
   ]
  },
  {
   "cell_type": "code",
   "execution_count": 41,
   "metadata": {},
   "outputs": [
    {
     "data": {
      "text/plain": [
       "['OrgName', 'Address', 'City ', 'Country', 'Postcode', 'Telephone']"
      ]
     },
     "execution_count": 41,
     "metadata": {},
     "output_type": "execute_result"
    }
   ],
   "source": [
    "names_secp"
   ]
  },
  {
   "cell_type": "code",
   "execution_count": 42,
   "metadata": {},
   "outputs": [
    {
     "data": {
      "text/plain": [
       "'Ruslan'"
      ]
     },
     "execution_count": 42,
     "metadata": {},
     "output_type": "execute_result"
    }
   ],
   "source": [
    "df.iloc[0][names_secp[0]]"
   ]
  },
  {
   "cell_type": "code",
   "execution_count": 44,
   "metadata": {},
   "outputs": [
    {
     "name": "stdout",
     "output_type": "stream",
     "text": [
      "OrgName\n",
      "Ruslan\n",
      "Address\n",
      "I want to break free from your lies you're so self-satisfied, I don't need you\n",
      "City \n",
      "Manchester\n",
      "Country\n",
      "0\n",
      "Postcode\n",
      "SE21 8RE\n",
      "Telephone\n",
      "441234567890\n"
     ]
    }
   ],
   "source": [
    "for i in range(len(names_secp)):\n",
    "    fillf = names_secp[i]\n",
    "    info = df.iloc[0][fillf]\n",
    "    print(fillf)\n",
    "    print(info)"
   ]
  },
  {
   "cell_type": "code",
   "execution_count": null,
   "metadata": {},
   "outputs": [],
   "source": []
  }
 ],
 "metadata": {
  "kernelspec": {
   "display_name": "Python 3",
   "language": "python",
   "name": "python3"
  },
  "language_info": {
   "codemirror_mode": {
    "name": "ipython",
    "version": 3
   },
   "file_extension": ".py",
   "mimetype": "text/x-python",
   "name": "python",
   "nbconvert_exporter": "python",
   "pygments_lexer": "ipython3",
   "version": "3.6.5"
  }
 },
 "nbformat": 4,
 "nbformat_minor": 2
}
